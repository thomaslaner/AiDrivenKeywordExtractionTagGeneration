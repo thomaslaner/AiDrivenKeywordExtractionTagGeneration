{
 "cells": [
  {
   "cell_type": "markdown",
   "id": "64e81998",
   "metadata": {},
   "source": [
    "# Set input- & output-files and API-Key"
   ]
  },
  {
   "cell_type": "code",
   "execution_count": null,
   "id": "a09eb267",
   "metadata": {},
   "outputs": [],
   "source": [
    "inputFilePath=\"\"\n",
    "outputFilePath=\"\"\n",
    "APIKey=\"\"\n",
    "extractionPrompt=\"\"\"\n",
    "Goal:\n",
    "Extract from the provided article the following entities:\n",
    "1. AthletesAndTeams: List individuals and teams affiliated with Red Bull. List any aliases or variations of the team names and correct any spelling mistakes. If someone is known by a nickname, use nickname instead of name.\n",
    "2. Disciplines: Capture every mention of competitive sports & e-sports disciplines. Consider both full names and common abbreviations.\n",
    "3. Events: Identify any formally named tournaments, championships, or events (e.g.: “League of Legends World Championship”).\n",
    "\n",
    "Additional Instructions:\n",
    "- Translate all Discipline- and Event names to English\n",
    "- Search entire text (including background or historical references) for all explicit and implicit references to the above categories.\n",
    "- Return exactly one JSON object containing the keys “AthletesAndTeams”, “Disciplines”, and “Events”. If any of categories not mentioned, provide empty array for that key.\n",
    "- Do only include mentions from the article, not from the instruction.\n",
    "\n",
    "Output single JSON object with these exact keys, containing a list of strings:\n",
    "{ \n",
    "\"AthletesAndTeams\": [],\n",
    "\"Disciplines\": [],\n",
    "\"Events\": []\n",
    "}\n",
    "\n",
    "Article:\n",
    "\"\"\"\n",
    "gptModel=\"gpt-4.1-mini\"\n",
    "modelTemperature=0.5\n",
    "rerunCount=0\n",
    "rerunAnalysisPrompt=\"\"\"From web-articles extractions below, make sure all entries English, no duplicates, names spelled correctly. Return single JSON object with same keys as inputs.\"\"\""
   ]
  },
  {
   "cell_type": "markdown",
   "id": "51d421dc",
   "metadata": {},
   "source": [
    "# Helper classes"
   ]
  },
  {
   "cell_type": "markdown",
   "id": "58d81523",
   "metadata": {},
   "source": [
    "### Article Processor class"
   ]
  },
  {
   "cell_type": "code",
   "execution_count": 2,
   "id": "6a0ec153",
   "metadata": {},
   "outputs": [],
   "source": [
    "import os\n",
    "import sys\n",
    "import json\n",
    "import re\n",
    "import logging\n",
    "import unicodedata\n",
    "import glob\n",
    "from typing import Optional, Dict, List, Any\n",
    "\n",
    "try:\n",
    "    from bs4 import BeautifulSoup\n",
    "except ImportError:\n",
    "    # If BeautifulSoup is not available, fallback to regex-based HTML removal.\n",
    "    BeautifulSoup = None\n",
    "\n",
    "# Set up logging\n",
    "logging.basicConfig(\n",
    "    level=logging.INFO,\n",
    "    format=\"%(asctime)s [%(levelname)s] %(message)s\",\n",
    "    handlers=[logging.StreamHandler()]\n",
    ")\n",
    "\n",
    "class ArticleProcessor:\n",
    "    \"\"\"Handle article loading, cleaning, and processing operations\"\"\"\n",
    "    \n",
    "    @staticmethod\n",
    "    def load_article(file_path: str) -> Optional[Dict[str, Any]]:\n",
    "        \"\"\"Load the JSON file from the given path with proper error handling.\"\"\"\n",
    "        try:\n",
    "            with open(file_path, 'r', encoding='utf-8') as file:\n",
    "                data = json.load(file)\n",
    "                return data\n",
    "        except FileNotFoundError:\n",
    "            logging.error(f\"Error: The file '{file_path}' was not found.\")\n",
    "            return None\n",
    "        except json.JSONDecodeError as e:\n",
    "            logging.error(f\"Error: Failed to parse JSON file '{file_path}': {e}\")\n",
    "            return None\n",
    "    \n",
    "    @staticmethod\n",
    "    def remove_html_tags(text: str) -> str:\n",
    "        \"\"\"Remove HTML tags from text using BeautifulSoup if available, else fallback to regex.\"\"\"\n",
    "        if BeautifulSoup is not None:\n",
    "            # Use BeautifulSoup for robust HTML tag removal\n",
    "            soup = BeautifulSoup(text, \"html.parser\")\n",
    "            return soup.get_text(separator=\" \", strip=True)\n",
    "        else:\n",
    "            # Fallback regex to remove <...> tags\n",
    "            html_tag_pattern = re.compile(r'<[^>]+>')\n",
    "            return html_tag_pattern.sub('', text)\n",
    "    \n",
    "    @staticmethod\n",
    "    def clean_text(text: str) -> str:\n",
    "        \"\"\"Clean the text by applying multiple cleaning steps\"\"\"\n",
    "        # Remove HTML tags\n",
    "        text = ArticleProcessor.remove_html_tags(text)\n",
    "        \n",
    "        # Normalize Unicode (standardizes quotes, dashes, spaces, etc.)\n",
    "        text = unicodedata.normalize(\"NFKC\", text)\n",
    "        \n",
    "        # Remove extra whitespace and newlines\n",
    "        text = re.sub(r'\\s+', ' ', text).strip()\n",
    "        \n",
    "        # Remove emojis using a Unicode-aware regex\n",
    "        emoji_pattern = re.compile(\n",
    "            \"[\"\n",
    "            u\"\\U0001F600-\\U0001F64F\"  # emoticons\n",
    "            u\"\\U0001F300-\\U0001F5FF\"  # symbols & pictographs\n",
    "            u\"\\U0001F680-\\U0001F6FF\"  # transport & map symbols\n",
    "            u\"\\U0001F1E0-\\U0001F1FF\"  # flags\n",
    "            u\"\\U00002702-\\U000027B0\"  # other symbols\n",
    "            u\"\\U000024C2-\\U0001F251\"  # enclosed characters\n",
    "            \"]+\", flags=re.UNICODE)\n",
    "        text = emoji_pattern.sub('', text)\n",
    "        \n",
    "        # Remove hyperlinks (URLs)\n",
    "        link_pattern = re.compile(r'http\\S+|www\\.\\S+')\n",
    "        text = link_pattern.sub('', text)\n",
    "        \n",
    "        # Remove hashtag symbols (keep the text) and Twitter handles (@username)\n",
    "        text = re.sub(r'#', '', text)\n",
    "        text = re.sub(r'@\\w+', '', text)\n",
    "\n",
    "        # Final whitespace normalization (in case removals left extra spaces)\n",
    "        text = re.sub(r'\\s+', ' ', text).strip()\n",
    "\n",
    "        # Sanity check: warn if the cleaned text is suspiciously short\n",
    "        if len(text) < 20:\n",
    "            logging.warning(\"Cleaned text is very short; please verify that essential content was not removed.\")\n",
    "\n",
    "        return text\n",
    "    \n",
    "    @staticmethod\n",
    "    def prepare_article(data: Dict[str, Any], print_result: bool = False) -> Dict[str, str]:\n",
    "        \"\"\"Extract and clean fields from the JSON article.\"\"\"\n",
    "        headline = ArticleProcessor.clean_text(data.get('headline', ''))\n",
    "        article_body = ArticleProcessor.clean_text(data.get('articleBody', ''))\n",
    "        date_published = ArticleProcessor.clean_text(data.get('datePublished', ''))\n",
    "\n",
    "        if print_result:\n",
    "            logging.info(f\"Headline: {headline}\")\n",
    "            logging.info(f\"Article Body: {article_body}\")\n",
    "            logging.info(f\"Date Published: {date_published}\\n\")\n",
    "\n",
    "        return {\n",
    "            \"headline\": headline,\n",
    "            \"articleBody\": article_body,\n",
    "            \"datePublished\": date_published\n",
    "        }\n",
    "    \n",
    "    @staticmethod\n",
    "    def get_json_files(directory_path: str) -> List[str]:\n",
    "        \"\"\"Get all JSON files from the specified directory\"\"\"\n",
    "        if not os.path.exists(directory_path):\n",
    "            print(f\"Directory '{directory_path}' does not exist\")\n",
    "            return []\n",
    "            \n",
    "        # Find all .json files in the directory\n",
    "        json_files = glob.glob(os.path.join(directory_path, \"*.json\"))\n",
    "        \n",
    "        if not json_files:\n",
    "            print(f\"No JSON files found in '{directory_path}'\")\n",
    "            return []\n",
    "            \n",
    "        print(f\"Found {len(json_files)} JSON files in '{directory_path}'\")\n",
    "        return json_files"
   ]
  },
  {
   "cell_type": "markdown",
   "id": "329ecf18",
   "metadata": {},
   "source": [
    "### GPT Client class"
   ]
  },
  {
   "cell_type": "code",
   "execution_count": 3,
   "id": "c1959e57",
   "metadata": {},
   "outputs": [],
   "source": [
    "from openai import OpenAI\n",
    "from typing import Optional, Dict, List, Any\n",
    "import time\n",
    "import re\n",
    "import json\n",
    "\n",
    "class GptClient:\n",
    "    \"\"\"Handle GPT API interactions and response processing\"\"\"\n",
    "    \n",
    "    def __init__(self, api_key: str, model: str, temperature: float = 0.5):\n",
    "        self.api_key = api_key\n",
    "        self.model = model\n",
    "        self.temperature = temperature\n",
    "    \n",
    "    def call_api(self, prompt: str, print_output: bool = False, retries: int = 3, backoff: float = 2.0) -> Optional[str]:\n",
    "        \"\"\"Call GPT API with error handling and exponential backoff retries\"\"\"\n",
    "        attempt = 0\n",
    "        while attempt < retries:\n",
    "            try:\n",
    "                client = OpenAI(api_key=self.api_key)\n",
    "                response = client.responses.create(\n",
    "                    model=self.model,\n",
    "                    input=prompt,\n",
    "                    temperature=self.temperature\n",
    "                )\n",
    "                if print_output:\n",
    "                    print(response.output_text)\n",
    "                return response.output_text\n",
    "            except Exception as e:\n",
    "                attempt += 1\n",
    "                wait_time = backoff ** attempt\n",
    "                print(f\"API call error ({attempt}/{retries}): {e}. Retrying in {wait_time} seconds...\")\n",
    "                if attempt < retries:\n",
    "                    time.sleep(wait_time)\n",
    "                else:\n",
    "                    print(\"Maximum retries reached, skipping this article.\")\n",
    "                    return None\n",
    "    \n",
    "    @staticmethod\n",
    "    def process_output(gpt_output_str: Optional[str]) -> Optional[Dict[str, Any]]:\n",
    "        \"\"\"Process GPT output with validation\"\"\"\n",
    "        if not gpt_output_str:\n",
    "            return None\n",
    "\n",
    "        # Extract JSON part from potential code blocks or extra text\n",
    "        json_match = re.search(r'\\{[\\s\\S]*\\}', gpt_output_str)\n",
    "        if json_match:\n",
    "            gpt_output_str = json_match.group(0)\n",
    "            \n",
    "        try:\n",
    "            data = json.loads(gpt_output_str)\n",
    "            return data\n",
    "        except json.JSONDecodeError as e:\n",
    "            print(f\"Error parsing JSON: {e}\")\n",
    "            return None\n",
    "    \n",
    "    def extract_entities(self, article_text: str, extraction_prompt: str, print_output: bool = False) -> Optional[Dict[str, Any]]:\n",
    "        \"\"\"Extract entities from an article using the extraction prompt\"\"\"\n",
    "        prompt = extraction_prompt + article_text\n",
    "        output = self.call_api(prompt, print_output)\n",
    "        return self.process_output(output)\n",
    "    \n",
    "    def consolidate_results(self, extraction_results: List[Dict[str, Any]], consolidation_prompt: str) -> Optional[Dict[str, Any]]:\n",
    "        \"\"\"Consolidate multiple extraction results\"\"\"\n",
    "        consolidated_input = json.dumps(extraction_results, indent=2)\n",
    "        full_prompt = consolidation_prompt + \"\\n\\n\" + consolidated_input\n",
    "        consolidated_output = self.call_api(full_prompt)\n",
    "        return self.process_output(consolidated_output)"
   ]
  },
  {
   "cell_type": "markdown",
   "id": "d207b14d",
   "metadata": {},
   "source": [
    "### Data output helper"
   ]
  },
  {
   "cell_type": "code",
   "execution_count": 4,
   "id": "1d29400e",
   "metadata": {},
   "outputs": [],
   "source": [
    "import csv\n",
    "import json\n",
    "import os\n",
    "from typing import Dict, List, Set, Optional, Tuple\n",
    "\n",
    "class CsvHandler:\n",
    "    \"\"\"Handle CSV operations with context management\"\"\"\n",
    "    def __init__(self, filename: str, fieldnames: List[str]):\n",
    "        self.filename = filename\n",
    "        self.fieldnames = fieldnames\n",
    "        self._existing_entries: Optional[Set[Tuple[str, str, str]]] = None\n",
    "\n",
    "    @property\n",
    "    def existing_entries(self) -> Set[Tuple[str, str, str]]:\n",
    "        \"\"\"Lazily load existing entries as tuples of (file_path, headline, date_published)\"\"\"\n",
    "        if self._existing_entries is None:\n",
    "            self._existing_entries = self._load_existing_entries()\n",
    "        return self._existing_entries\n",
    "\n",
    "    def _load_existing_entries(self) -> Set[Tuple[str, str, str]]:\n",
    "        if not os.path.exists(self.filename):\n",
    "            return set()\n",
    "        with open(self.filename, mode='r', encoding='utf-8') as f:\n",
    "            return {(row['FileName'], row['Headline'], row['DatePublished']) \n",
    "                   for row in csv.DictReader(f)}\n",
    "\n",
    "    def write_extractions(self, extractions: List[Dict]) -> None:\n",
    "        \"\"\"Write new extractions to CSV file\"\"\"\n",
    "        new_extractions = [\n",
    "            ext for ext in extractions\n",
    "            if (ext.get('FileName'), ext.get('Headline'), ext.get('DatePublished')) \n",
    "               not in self.existing_entries\n",
    "        ]\n",
    "\n",
    "        if not new_extractions:\n",
    "            print(\"No new entries to write\")\n",
    "            return\n",
    "\n",
    "        mode = 'a' if os.path.exists(self.filename) else 'w'\n",
    "        with open(self.filename, mode=mode, newline='', encoding='utf-8') as f:\n",
    "            writer = csv.DictWriter(f, fieldnames=self.fieldnames)\n",
    "            if mode == 'w':\n",
    "                writer.writeheader()\n",
    "            writer.writerows(new_extractions)\n",
    "\n",
    "        print(f\"Wrote {len(new_extractions)} new entries\")"
   ]
  },
  {
   "cell_type": "markdown",
   "id": "ca48e2bc",
   "metadata": {},
   "source": [
    "# Main"
   ]
  },
  {
   "cell_type": "markdown",
   "id": "c07dce92",
   "metadata": {},
   "source": [
    "### Process articles"
   ]
  },
  {
   "cell_type": "code",
   "execution_count": 5,
   "id": "b90df223",
   "metadata": {},
   "outputs": [
    {
     "name": "stdout",
     "output_type": "stream",
     "text": [
      "Found 5 JSON files in 'webarticles_sample'\n"
     ]
    },
    {
     "data": {
      "text/plain": [
       "['webarticles_sample/1b48aa76-5de9-462a-993a-e7f85ea3e9ab.json',\n",
       " 'webarticles_sample/0c1eefe7-d4ec-4344-9ded-32088d62f6b7.json',\n",
       " 'webarticles_sample/1abfca25-f7f7-4e6c-9cb0-32fd0768d4c7.json',\n",
       " 'webarticles_sample/0bdb0fa7-7269-47d0-aabc-5e5941cda28c.json',\n",
       " 'webarticles_sample/1b597488-5461-4660-a4cd-6e10c5216bcc.json']"
      ]
     },
     "execution_count": 5,
     "metadata": {},
     "output_type": "execute_result"
    }
   ],
   "source": [
    "# Initialize processor and client\n",
    "article_processor = ArticleProcessor()\n",
    "gpt_client = GptClient(api_key=APIKey, model=gptModel, temperature=modelTemperature)\n",
    "\n",
    "# Get all JSON files from input directory\n",
    "json_files = article_processor.get_json_files(inputFilePath)\n",
    "json_files"
   ]
  },
  {
   "cell_type": "code",
   "execution_count": 6,
   "id": "af9457af",
   "metadata": {},
   "outputs": [
    {
     "name": "stderr",
     "output_type": "stream",
     "text": [
      "2025-04-15 14:54:49,631 [INFO] Headline: The future of 'high-speed' rail in America? Here's what it was like taking Brightline in Florida\n",
      "2025-04-15 14:54:49,632 [INFO] Article Body: I'm sitting on a brand new train in Florida, cruising at up to 124 miles per hour, as I begin writing this review. Brightline launched its new Orlando to South Florida service in September. I decided to take one of the first trains from Orlando International Airport (MCO) to Miami to see what the new service was like in one of the coach cabins on what's called a \"Smart Fare.\" The Florida-based private company runs (somewhat) high-speed trains from Orlando International Airport's Terminal C in Central Florida to Miami, covering 235 miles between 3 and 3 and 1/2 hours, depending on South Florida station stops. Brightline describes the company as \"... the boldest private infrastructure project in the nation and marks the revitalization of Henry Flagler's original vision for the Florida East Coast Railway.\" Indeed, it is bold, from the color of the trains to the brand-new stations. There's nothing quite like it this side of the Atlantic. The company launched operations in South Florida in 2018, connecting Miami, Fort Lauderdale and West Palm Beach. It didn't stop there. Stations in Boca Raton and Aventura opened last year, and construction on its 170-mile extension from West Palm Beach to Orlando began in 2019. Brightline said the $6 billion project has generated substantial economic benefits in Florida, creating 10,000 jobs and billions in direct economic impact to the region. It's not only an efficient way to travel, but I'd also call it fun. Here's what you can expect if you try out this cool new private train service. Booking Brightline TPG paid just $79 for a one-way ticket on Brightline between Orlando and Miami. I, somewhat mistakenly, used my Platinum Card® from American Express. It was a mistake because that card awards 5 points per dollar on airfare booked directly with the airlines but awards no bonus points for trains. My colleague credit cards writer Emily Thompson wrote the go-to story on what credit cards to use for train travel, and clearly, I should have used my Chase Sapphire Preferred Card for 2 points per dollar spent on travel. (You can get five times the points on travel booked through the Chase Ultimate Rewards portal.) That price was for the coach cabin that Brightline calls Smart Fares. Pricing is dynamic, however; on the day of my journey, prices ranged up to $99. Premium Fares, which are Brightline's premium-class fares, were going for $149 for the same journey — much more on the differences in the cabins below. Seat selection was free, and I chose seat 12D in coach 3 on the brand-new train that Brightline named \"Brightorange.\" Brightline names its trains after colors — you may have noticed they have a distinct appreciation for bright yellow. All fare types include complimentary high-speed Wi-Fi, multiple power and USB outlets, and leather seats. Smart fare on Brightline You'll find plenty of room on Brightline, no matter which class you choose. In the Smart Fare cabins, the widest part of the seats is 19 inches wide; it narrows to 17 inches as the seats accommodate the recline buttons and the electrical panel in the center of the seats. Seats are in a 2-2 configuration. Previous slide Next slide 1 of 6 CLINT HENDERSON/THE POINTS GUY You'll find a nested headrest around 17 inches with about two inches of padding at the headrest area — perfect for taking a quick snooze. Each seat has 15 to 16 inches of pitch, depending on where you measure from and which seat you choose. There are a variety of seating arrangements, including forward- or backward-facing and seats with tables in between. The seats do recline a few inches; rather than reclining into the seat behind you, the seat itself pops forward, angling the seatback slightly (very slightly). It's more like leaning back than actually reclining. There is a wide tray table large enough for a laptop and a smaller table that folds out to hold drinks. Additionally, there's plenty of storage above the seats and more room for luggage at the ends of the train cars. Previous slide Next slide 1 of 6 CLINT HENDERSON/THE POINTS GUY The bathrooms are large and were pristine on our journey. Everything is motion-operated, which makes for hands-free buttons. Premium Fare on Brightline I also traveled in Brightline's Premium Fare on a personal trip between Miami and West Palm Beach earlier this year. The seats were similar, though they felt roomier. Since there are fewer seats in the fancier train cars, you feel less crowded. Seats in the Premium Fare class seemed wider than those in the Smart Fare class. I measured as much as 25 inches at the widest part of one seat, though the company said the seats are about the same size in all classes. Each Premium car has 46 seats in a 1-2 configuration. You'll find a roomier ride and free snacks, but the service is otherwise just as good as Smart Fare, and I don't think most folks will need to splurge on the everyday trip. Amenities and service on Brightline Service was friendly, if a bit frazzled, on the day I traveled from Orlando. That is to be expected when a new service begins, whether it's a cruise ship, an airline, a hotel or a train company. In the coach cabin, attendants came through with a cart about 55 minutes after leaving the Orlando station. The two friendly agents took orders with a few options like Clif Bars, Kind bars, Pringles or Smartfood white cheddar popcorn ($3-$5). Those same snacks would have been free in Premium Class. It wasn't on the QR menu on the first day of service, but sandwiches and salads are also available. When I asked why they weren't on the menu, my friendly attendant Devin told me that was because the sandwiches and salads were new; they wanted to ensure they had them in stock before they were added to the menus. A variety of sandwiches are available, including a turkey and Gruyere cheese club hoagie and a Caesar salad with grilled chicken. All are priced at $14. Brightline is cash-free, so you'll need to use your credit or debit card for purchases. There was a large selection of nonalcoholic beverages, including Aquafina or Sanpellegrino water, cranberry juice, Lavazza coffee, ginger ale, Red Bull or Pepsi ($2-$4.50). Since Brightline is a Pepsi train, you won't find any Coke products on the menu. Booze-friendly options included Aviation American Gin, Tito's Handmade Vodka, Jack Daniel's Tennessee Whiskey or Baileys Irish cream, all selling for $10 a drink. Wine options included 19 Crimes red blend, Ecco Domani pinot grigio or a Pink Flamingo Gris de Gris rose, each selling for $10. There was a second beverage service two hours into the first leg of the journey to West Palm Beach. If you go for the first-class experience, you'll get a better selection of complimentary food and drinks onboard. 1 of 6 CLINT HENDERSON/THE POINTS GUY The internet on the train is free and provided by SpaceX's Starlink. It was good enough to upload images, though there were some service interruptions at various points in the journey. All about the lounges on Brightline The best part of traveling in Premium Fare on Brightline is access to the lounges. A first-class ticket will get you into the lounges at the six Brightline stations. Inside the lounges, you'll find lots of comfy seating areas, along with included beverages and snacks. You'll find a buffet spread including charcuterie, salad, fresh fruit, crackers and other cold items. There is also a selection of cold Pepsi products, Lavazza coffee and bottled water. Beers include Stella, Michelob Ultra, Sam Adams Seasonal and brews from some local spots, depending on the station. Wines include Matua sauvignon blanc, Pink Flamingo rose and Sterling Vinters Collection cabernet sauvignon. The Orlando station has an added perk of the \"My Tap system\" with full-service spirit cocktails. High-speed rail in Florida? It took 2 and 1/2 hours to reach West Palm Beach from Orlando. I clocked us traveling at speeds as high as 124 miles an hour. Is this true European or Asian-style high-speed rail? No. But speeds of up to 125 miles per hour are pretty good for train travel in the U.S., where Amtrak typically averages 40-70 miles per hour. Even the higher-speed Acela maxes out at around 110-145 miles per hour in the Northeast Corridor. As Brightline continues to expand, the company hopes to improve speeds as infrastructure projects are completed. The company has begun constructing a new line between Las Vegas and Los Angeles that could start as soon as 2028. It hopes to get trains traveling as fast as 186 miles an hour. Brightline is also planning an additional Tampa station, which is in the very early stages of development. Officials say the Tampa extension will be built in the Ybor City area, but it's still at least four to five years off. Bottom line I've been so excited to see the progress of Brightline in Florida and to take one of the first trips involving the new Orlando station. This was especially encouraging compared to the attempts by the state of California to get high-speed rail going. From what I saw from Brightline, it builds beautiful new stations, has friendly service, brand new trains and travels free of car traffic, making it a great alternative to driving or flying in Florida. On top of that, it was just a fun trip. There's no bigger thrill than speeding along the tracks and passing slower-moving car traffic, especially sitting inside a new train. There were times on my trips on Brightline when I thought the service compared favorably to some of the incredible train journeys I've taken in Europe. Critics will complain that Brightline is not true high-speed rail, since some trains in Europe and Asia travel as fast as 200 miles per hour, but it's still progress here in the U.S. I highly recommend this service if you can make it make sense for your next trip. I am eagerly awaiting the debut of Brightline West between Vegas and LA. Heck, maybe someday, high-speed rail really will make its way to California, too. Until then, I recommend trying Brightline the next time you travel one of its routes in Florida.\n",
      "2025-04-15 14:54:49,632 [INFO] Date Published: 2023-11-27T13:00:53+00:00\n",
      "\n",
      "2025-04-15 14:54:49,634 [INFO] Headline: ‘Incompetence’: What F1 great’s blast says about ‘inept’ Alpine\n",
      "2025-04-15 14:54:49,634 [INFO] Article Body: The energetic simmering of the Alpine F1 team increased to a full rolling boil this week, with a management clean-out executed halfway through a grand prix weekend. Alpine announced on Friday in Belgium — between practice and qualifying — that its three most senior personnel would be out by the end of the weekend. Team principal Otmar Szafnauer, legendary sporting director Alan Permane and chief technical officer Pat Fry have now all left the team. Watch the Formula 1 Dutch Grand Prix 2023 live and ad-break free in racing on Kayo Sports on Sunday, 29 August, at 11:00pm AEST. New to Kayo? Start your free trial now > Szafnauer and Permane departed “by mutual agreement”. Fry has taken the same job at Williams. It’s just the latest in a long line of management reshuffles and restructures at the beleaguered French team that has shattered the veneer of strong, steady, dependable progress up the constructors championship. But in retrospect it feels like it was only ever really a veneer. The team’s origins are in bloodshed, Renault having brutally axed principal Cyril Abiteboul at the end of 2020, when Daniel Ricciardo walked out on the team after just two years. Laurent Rossi was installed as CEO of the newly rebranded Alpine team, and by the end of his first year he’d pushed out four-time champion Alain Prost, expunged technical chief Marcin Budkowski and overseen the exit of engine chief Rémi Taffin. Szafnauer was brought in as team principal. Six months later Fernando Alonso plunged Alpine into chaos by announcing his intention to switch to Aston Martin. That precipitated a battle for former protégé Oscar Piastri with McLaren. Alpine took the matter to arbitration and lost in a unanimous decision, having been found to have spectacularly neglected to furnish Piastri with a valid contract. This year started with Rossi dealing an epic spray against his own team for underachieving, the French chief describing his charges as dilettantes not worthy of their resources. Renault then announced it had sold almost a quarter of the team to a consortium of investors including Hollywood actor Ryan Reynolds. Shortly afterwards Bruno Famin was moved from the team’s engine division to become Alpine’s motorsport vice-president. He then moved on Rossi, who was sent to “special projects” in the Renault group barely two years into his tenure. Philippe Krief replaced Rossi as chief executive, having joined the company less than six months earlier. Now the rest of the team’s leadership has been wiped out. It all amounts to 30 months of largely self-inflicted turmoil. ALPINE HAS FALLEN INTO AN AGE-OLD F1 TRAP Enstone is a championship-winning operation as both an independent constructor and the Renault works team, but its long and successful history hasn’t prevented it from falling into an age-old trap for overeager manufacturers that think business acumen can win F1 races. Prost, the four-time champion formerly embedded in the Renault team before being pushed out, said the French team has succumbed to thinking that Formula 1 was easy, reserving particularly stinging criticism for Rossi, who he said set back the team’s progress several seasons. “In my years at Renault, how many times did I hear in the hallways of the headquarters in Boulogne-Billancourt that F1 was a simple sport that could be managed from home by the men in place,” he wrote in a column for French paper L’Equipe. “That was a huge mistake, as was proven with the last of the directors, Laurent Rossi, whom Luca de Meo let go a week ago. “Laurent Rossi is the best example of the Dunning-Kruger effect, that of an inept manager who thinks he can overcome his incompetence with his arrogance and his lack of humanity towards his people.” The Dunning-Kruger effect describes the phenomenon whereby the less capable a person is of executing a task, the more likely they are to over-estimate their ability to do that task. “He was Alpine’s boss for 18 months and thought he understood everything from the outset, yet that couldn’t be further from the truth,” Prost said. “His management stopped the momentum the team had built since 2016, achieving these podiums and that win. “I love this team and seeing it in this state today saddens and distresses me.” Prost made several parallels to well-worn examples of success in Formula 1. Ferrari in the 2000s was anchored by Jean Todt, who protected the race team from the politics of the road car business and built the Scuderia around Michael Schumacher. Red Bull founder Dietrich Mateschitz guaranteed his teams autonomy, with which Christian Horner built dynasties around Sebastian Vettel and now Max Verstappen. Mercedes has long backed the independence of its team, and Toto Wolff has made himself an equal-part shareholder as a modern form of owner-principal. Enstone’s last successful era, as Renault in the 2000s, followed the same model. “When you look back at Renault’s success, you will find a man, Flavio Briatore, and a legendary driver, Fernando Alonso, supported by a management team who at the time implemented this philosophy of quick decision-making by specialists,” Prost said. “[Alpine] deserves better and has everything it needs to succeed. I simply believe you need to rely on history to understand what went wrong. “If you look at the great success stories from the last 30 years, you will see a simple structure – unlike an industrial organisation chart — built around three or four strong personalities coupled with a winning driver. “They had the codes of F1, the agility and flexibility to let their people make the decisions. “Let’s hope the decision that was made on Friday, with other people being replaced, will be a salutary shock to the team.” WHY HAS THE AXE SWUNG? That hope seems forlorn. Evidently those historical lessons about the independence of a racing team from its parent company aren’t being heeded. “We aim for winning races and championships as soon as possible,” said vice-president and caretaker team principal Famin. “We need to constantly improve our cars, the full package, from race to race, from year to year. “We know that it’s not easy. We know that the change of regulation is generally a good milestone for changing the ranking, and I think it’s quite a reasonable target, but it will not be a step; it’s improving constantly up to that.” He said the team’s goals were no longer aligned with Szafnauer and Permane’s understanding of what was possible. “We were not on the same time line to reach the level of performance we are aiming for,” he said. “Mutually we agreed to split our ways, and that’s it. “We have a different view of the way of doing it, and of course it’s true also in terms of time line, but I think we are not exactly the same in doing the things. “The season so far does not match our expectation, clearly. “The expectations are to be able to fight for wins and for titles as soon as possible. Of course the way is going to be a bit long, but the expectations are those ones.” Szafnauer has long backed the team’s 100-race plan to become a regular race-winner, which was due to come to fruition by 2026. He said the new management has unrealistically brought forward that target. “I had a time line in mind for changing the team, making it better,” he told ESPN. I thought it was realistic, because I know what it takes. I’ve done it before. “I think some of the senior management at Renault had a shorter time line in mind. “If you can’t reconcile that — I think one thing, they think another — it’s best to part ways. “I’ve always said Mercedes took five years from buying a winning team. Red Bull took five years from buying Jaguar, which was a pretty solid mid-grid team. It takes time. That’s what it takes.” Szafnauer also told Sky Deutschland: “You can’t get nine women pregnant and hope you have a baby in a month.” THE COUNTERPOINT Alpine set itself the target of a more competitive fourth in the constructors standings this season, closer to the frontrunning pack, but has slipped back to sixth in the standings behind Aston Martin and McLaren. If you were being optimistic, you could say one team making such a big gain could be a freak occurrence. Two teams in the space of six months changes the game. Worse, with five teams now regularly ahead of it, Alpine faces the prospect of leaving most weekends without points. In that context you can understand why management felt faster progress should be possible — and why its trigger finger got itchy. But Aston Martin and McLaren didn’t make those jumps via successive clean-outs and rounds of redundancies. Aston Martin’s model has been pure accumulation thanks to its low funding base before being purchased by the Lawrence Stroll-led consortium. Only once it had new experienced staff in place was the old guard shuffled out. While McLaren started the year by sacking its technical director, it did so in conjunction with hiring big technical names from elsewhere — David Sanchez from Ferrari and then Rob Marshall from Red Bull Racing. Neither of these teams has simply embarked on a bloodletting exercise. You don’t build a team back to competitiveness by removing the decades of respected managerial experience from the top of the organisation. IT’S ALL ABOUT CULTURE Much has been made of Szafnauer and Permane’s sudden sackings — which, realistically, is what they are if management has lost faith in their leadership. But Pat Fry’s move to Williams is arguably more telling — and a bigger red flag. Williams principal James Vowles revealed in the aftermath that earlier moves to bring Fry to his team had been rebuffed until around May, which Rossi sensationally blew up in the media about his own team in May, accusing Enstone particularly of wasting its resources by returning poor results. “It’s a misalignment of, ‘This year we should be third in the championship’. That causes the friction that you’re seeing, which ends up in a decision,” Vowles said, per Autosport. “The board are expecting one thing, the results are suggesting something else and there’s no way out. “The proactive way is that, as you see the journey isn’t going towards it, you manage the expectations of everyone and show the pathway of what you need to do to change that. “I’m more for that because the reactive will never end well, fundamentally.” While few might look to Williams as an example of performance, Vowles has come fresh from the front lines at Mercedes and is attempting to build the team in the image of the German manufacturer during its most dominant era. He talks a lot about needing to build a particular winning culture because a team can deliver sustained success. “I’m very much a believer in behaviours and characteristics. By that I mean you need to have empowerment, you need to know how to train up the next generation of individuals, you know how to put structure in place. “It’s not about blame, it’s about fundamentally having a policy that allows failure as long as you capture it correctly and talk about it.” It casts the last three years of Alpine in a self-destructive light — and creates a bleak outlook for the team’s future, regardless of who’s drafted in to fill the holes, if this is the management style and culture being impressed on the once great Enstone.\n",
      "2025-04-15 14:54:49,634 [INFO] Date Published: 2023-08-03T07:08:00+00:00\n",
      "\n",
      "2025-04-15 14:54:49,635 [WARNING] Cleaned text is very short; please verify that essential content was not removed.\n",
      "2025-04-15 14:54:49,636 [INFO] Headline: Street Team Marketing\n",
      "2025-04-15 14:54:49,636 [INFO] Article Body: Marketing is the lifeblood of any business. It’s how you get your message out there, attract new customers, and retain existing ones. But with the influx of traditional marketing methods, it can be hard for businesses to stand out. That’s where Street Team Marketing comes in. What is Street Team Marketing? Street Team Marketing is a form of marketing that leverages the power of personal interaction. Instead of relying on billboards or TV ads, Street Team Marketing involves a group of enthusiastic individuals promoting a product or service directly to potential customers in public places. This could include handing out samples at a popular park, setting up a pop-up booth at a festival, or even striking up conversations with passersby about the product or service. This personal approach sets Street Team Marketing apart from traditional marketing strategies. While traditional marketing often casts a wide net hoping to catch as many customers as possible, Street Team Marketing is more targeted. It aims to create a direct and meaningful connection with potential customers, making them feel valued and heard. The Benefits of Street Team Marketing One of the main advantages of Street Team Marketing is its cost-effectiveness. Unlike expensive TV or radio ads, Street Team Marketing primarily requires manpower. This makes it an excellent option for small businesses that may not have a large marketing budget. Furthermore, Street Team Marketing allows businesses to cut through the noise in a saturated market. In an era where consumers are constantly bombarded with advertising, a personal interaction can make a memorable impression. Street Team Marketing isn’t just for small businesses though. Large companies can also benefit from this approach by creating a more personal connection with their customers, something that can often get lost in mass marketing campaigns. The Importance of Research and Planning Before launching your street team marketing campaign, it’s crucial to conduct thorough research and planning. You need to identify your key target audience – who are the people most likely to be interested in your product or service? This could involve surveys, focus groups, or analyzing data from your website analytics. Once you’ve identified your target audience, you can start setting goals for your campaign. What are you hoping to achieve? This could be anything from increasing brand awareness to boosting sales. Next, develop your messaging and branding strategies. Your street team should have a clear, consistent message to share with potential customers. Finally, determine the most effective channels for promotion. Where does your target audience spend their time? These are the locations where you should focus your efforts. Who Are You Trying to Reach with Your Street Team Marketing Campaign? In the ever-evolving world of marketing, it can be challenging to make your brand stand out from the crowd. One innovative strategy that’s making waves is street team marketing. But who exactly are you trying to reach with this approach? Identifying Your Target Audience Before launching a street team marketing campaign, it’s crucial to identify your target audience. Who are the people most likely to be interested in your product or service? How do they spend their time? What are their needs and preferences? Conducting market research can be an invaluable tool in answering these questions. This could involve surveys, focus groups, or even analyzing data from your website analytics. Tailoring Your Campaign to Your Audience Once you’ve identified your target audience, the next step is to tailor your street team marketing campaign to suit their needs and preferences. For instance, if you’re targeting young professionals, you might set up your street team outside a busy subway station during rush hour. If you’re targeting parents, a booth at a local family-friendly event could be a more effective strategy. Success Stories Several brands have successfully leveraged street team marketing to reach their target audiences. Red Bull, for example, has become famous for their “Wings Team,” a group of brand ambassadors who distribute free samples of Red Bull at various events and locations, effectively reaching their target audience of young, active individuals. The Importance of Understanding Your Audience In conclusion, understanding your target audience is crucial in any marketing strategy, but especially so in street team marketing. By identifying who you’re trying to reach and tailoring your campaign to suit their needs and preferences, you can create a more effective and engaging marketing campaign that truly resonates with potential customers. So, before you launch your next street team marketing campaign, take the time to ask yourself: Who are you trying to reach? The answer could be the key to your campaign’s success. Creating a Successful Street Team Marketing Campaign Launching a successful Street Team Marketing campaign requires careful planning and execution. Here are some key steps to consider: Recruiting and Training Your Street Team Recruiting the right people for your street team is crucial. Look for individuals who are enthusiastic, outgoing, and familiar with your product or service. They should be able to engage with potential customers and represent your brand effectively. Once you’ve recruited your team, it’s important to provide them with the necessary training and resources. This could include product knowledge, sales techniques, and a clear understanding of your brand and its values. Incentivizing your team is also key. This could be through monetary rewards, product discounts, or even recognition for their hard work. Executing Your Street Team Campaign When it comes to executing your street team campaign, there are several key factors to consider. Firstly, maximize engagement with your audience. This could involve interactive activities, competitions, or simply engaging conversations. Tracking progress and results is also crucial. This will give you a clear idea of what’s working and what’s not, allowing you to adjust your strategies as needed. Types of Marketing Materials Used in Street Team Marketing There are various types of marketing materials that can be distributed during a street team marketing campaign. Each comes with its own set of benefits and drawbacks. Let’s delve into some of them. Flyers Flyers are a staple in street team marketing – they’re cost-effective, easy to produce, and can be designed to grab attention quickly. They offer room for creative design and concise messaging, making it possible to reach a large number of people in a short period. However, flyers can easily be ignored or discarded. To mitigate this risk, focus on eye-catching designs and ensure your message communicates effectively. Brochures Brochures provide more detailed information about your product or service compared to flyers. They’re excellent for explaining complex products or services and serve as a tangible reminder of your brand. However, brochures are pricier to produce and distribute than flyers. Keep in mind, too, that they might not be as effective if your target audience prefers digital information. Posters Posters are another visually impactful way to get your message across. They’re highly visible and can be placed in strategic locations for maximum exposure. However, the cost of printing and placement can be high, and sometimes getting permission to place them can be challenging. Stickers, Samples, and Branded Merchandise Stickers, samples, and branded merchandise like t-shirts or keychains provide a tangible connection to your brand. These items can leave a lasting impression and encourage word-of-mouth marketing. However, the cost of production can be high, especially for high-quality items. Social Media Posts In today’s digital age, incorporating social media posts into your street team marketing can significantly extend your reach beyond the physical location. It’s a cost-effective method that has the potential for viral sharing and allows for interaction with your online audience. However, it requires a strong online presence and constant engagement to keep the momentum going. Street Team Marketing vs. Brand Ambassadors What are Brand Ambassadors? Brand ambassadors, on the other hand, are individuals hired by a company to represent and promote its brand in a positive light. They are the face of the company, embodying its values, interacting with consumers, and often playing a role in various marketing events. For instance, a brand ambassador for a fitness apparel company might be a well-known athlete who wears the brand’s gear during public appearances, shares content related to the brand on their social media platforms, and participates in brand-sponsored events. Advantages and Limitations of Brand Ambassadors Brand ambassadors can be highly effective in building brand credibility and loyalty, as they offer a human face to a brand, making it more relatable and trustworthy 7. However, the success of this strategy heavily depends on the ambassador’s reputation and alignment with the brand’s values. Any negative publicity associated with the ambassador could potentially harm the brand’s image. Street Team Marketing vs. Brand Ambassadors: Key Differences While both strategies involve personal interaction and promotion, the key difference lies in the scope and approach. Street team marketing is more grassroots and community-focused, targeting specific local areas and events, while brand ambassadors have a broader reach, often leveraging their existing fame or influence to promote the brand on various platforms. In conclusion, both street team marketing and brand ambassadors offer unique advantages and can be effective depending on the campaign goals, target audience, and product or service being promoted. A successful marketing strategy may even involve a combination of both approaches. Conclusion No marketing campaign is complete without analyzing the results. By measuring the success of your Street Team Marketing campaign, you can gain valuable insights into what worked well and what didn’t. These learnings can then inform your future marketing strategies, making them even more effective. In conclusion, Street Team Marketing offers a unique and cost-effective way to promote your business. By creating personal connections with potential customers, it allows businesses to stand out in a saturated market and make a memorable impression. With careful planning and execution, Street Team Marketing can be a game-changer for your business.\n",
      "2025-04-15 14:54:49,636 [INFO] Date Published: 2023-10-03T00:00:00\n",
      "\n",
      "2025-04-15 14:54:49,638 [INFO] Headline: Adrian Newey: Only half my time goes into F1 – I’m also building a Red Bull submarine\n",
      "2025-04-15 14:54:49,638 [INFO] Article Body: When Max Verstappen rose, as if by magic, through the floor of the podium in Mexico last Sunday, sitting atop his winning Red Bull machine wearing a big sombrero like some sort of Formula One game-show model, the cameras lingered on one man looking up from the throng below with a contented look upon his face. Adrian Newey could be forgiven for feeling pretty chipper right now. Heading into this weekend’s Brazilian Grand Prix, the RB19 has won 18 of this season’s 19 races, making it one of the most dominant F1 cars in history. Red Bull’s chief technical officer is, of course, credited as the ‘genius’ behind the car, which is entirely understandable; F1’s pre-eminent designer has shaped the entire modern era of grand prix racing. Newey-designed cars have now won more than 200 grands prix and 12 constructors’ titles dating back to his first, the similarly dominant 1992 Williams-Renault FW14B which carried Nigel Mansell to glory. But as the man himself is at pains to point out, designing F1 cars, particularly these days, is a “team effort”. Newey neither wants nor deserves all the credit for Red Bull’s current hegemony. ‘I suppose I’m a bit of a maverick’ Back at his office in Milton Keynes – his famous drawing board behind us – Newey is explaining how his role has gradually evolved at a team where he has now spent 17 years (“Crikey, that’s frightening”). “It’s difficult to say exactly but I would say roughly 50 per cent,” he replies when I ask how much of his time he actually spends on F1. “I suppose I’m a bit of a maverick in as much as... I’ve managed to get to a situation now where it [the F1 engineering team] can operate procedurally without me, which allows me to be spoilt enough to be able to get involved in any area I feel like.” When Newey signed a new contract with Red Bull earlier this year – once again ending speculation he might be poached by Ferrari or even Mercedes – it was on that basis: that he could pursue other projects and passions and not be constantly chained to F1. Case in point: Newey will not be in Brazil this weekend. Instead the 65-year-old will be at Daytona, driving a GT40 with Ford boss Jim Farley. He is not skiving. Far from it. Newey was in Austin and Mexico, and will be back for Las Vegas in a fortnight’s time. “I think I will have done 16 races by the end of the year, which used to be a full season!” he points out. But he prefers it this way. It keeps him fresh. The man who now leads Red Bull’s F1 engineering team on a day-to-day basis occupies the office next door to Newey in Tilbrook: technical director Pierre Waché. A hard-smoking, hard-looking Frenchman from the Pas-de-Calais region of northern France – when we get around to discussing the recent Rugby World Cup in France, it is no surprise to discover Waché was an openside flanker in his youth, “until I damaged my knee” – Waché took an unconventional route to F1. He studied for a PHD in fluid mechanics from the Institut National Polytechnique De Lorraine in Nancy and Georgia Tech in the States, but rather than motorsports his specialism was in “blood flow in the heart area... specifically the interaction between cells in the bloodstream.” Somehow he wound up at Michelin, who put him on their F1 programme. “Without any desire on my part at the beginning,” he confesses. “I mean, I was a motorsport fan. I grew up watching Jacques Lafitte, Alain Prost, Jean Alesi... But I didn’t think, based on my background, it would be where I ended up. But I found I enjoyed it massively; the engineering competition, the speed at which you can develop things.” When Michelin pulled out of F1, Waché moved to BMW-Sauber as a vehicle performance engineer, again working predominantly with tyres and suspension. And from there to Red Bull in 2013 to catch the last act of Sebastian Vettel’s quadruple. ‘Adrian can’t be everywhere’ The advent of the hybrid engine era proved to be a challenging time at Red Bull. Newey lost motivation with engine partner Renault failing to produce a competitive powertrain. “I remember going with Christian and Helmut to see Carlos Ghosn [former Renault CEO] on the Champs Elysees,” he recalls. “He basically turned around and said ‘We’re only in Formula 1 because my marketing people tell me we should be. I have no interest in it myself.’ That was a pretty depressing moment.” What it did mean was that Newey chose that moment to step back a bit from Formula 1 and focus on other areas, working with Advanced Technologies. By the time Honda came on board in 2019 and Red Bull were starting to become more competitive again, Waché had been promoted to technical director, taking on increased responsibility. Waché – who lives in Oxford and has three sons, two of whom are now at British universities studying to be F1 engineers – says he does not crave public recognition. “I’m here to win, not to be known,” he shrugs. But understandably, there is a feeling within the team that it is only right that Waché and other senior engineers are recognised for their efforts in this record-breaking season. Newey may be the Lionel Messi of F1 engineering, but Red Bull are no one-man team. “It’s the perfect scenario, really, where we’ve built a machine that isn’t dependent on one individual but which enables Adrian to feed in and out, to mentor, to challenge ideas and so on,” says Christian Horner from his office, which sits on the other side of Newey’s and where the three of them pose for our photographer. “I suppose it’s evolved over the last four or five years as Adrian has become involved in other projects. He can’t be everywhere. “Back in 2013 he was drawing a large percentage of the aerodynamic surfaces of the car and sort of engineering at weekends and so on. But in a cost cap world, especially with where the regulations have gone, Adrian is able to do less anyway on the drawing board. Obviously he’s still crucial at the concept stage. “But as he’s taken on a broader role the rest of the group has had to evolve and develop. Particularly after Adrian’s [cycling] accident in 2021, the guys really had to step up with the design of RB18. Pierre did a great job in doing that. On a day-to-day basis, that is Pierre’s responsibility now, his accountability. The relationship between the two of them is strong. Honestly, I think it’s the strongest engineering team we’ve ever had.” ‘Our submarine isn’t targetting depth’ For Newey, the setup is perfect. He has time to indulge passion projects such as Red Bull’s new track car, the RB17, the first prototype of which should be ready next year. On the sketchpad in his office is a drawing of it. Our photographer is forbidden from approaching. Newey admits he is very excited about having a “second go” at designing a supercar, albeit track-focused this time, with a completely blank sheet of paper, after working on the Valkyrie project with Aston Martin. “I remember when I was at McLaren, Gordon Murray was working with Mercedes on the SLR, which he also found a very frustrating project, working with a manufacturer. Not for one moment to criticise Aston Martin, but the way an OEM goes about research, design, test and build... and how we go about the same procedure... is very different. So the opportunity now to do a second car, a two-seat focused project, is a chance to have a second crack.” There is also the America’s Cup with Alinghi. And MotoGP. Newey has even had a hand in designing a submarine, a project commissioned by Red Bull’s late co-owner Dietrich Mateschitz, who died last year. “It’s a great shame he won’t get to see it completed,” Newey says. “I’m actually a bit nervous of it! Even before the recent well-publicised accident with the Titanic submersible. But we’re quite rightly doing it in partnership with submarine experts. And we’re not targeting sea depths...Dietrich’s brief was he wanted one that was easy to move around [his private] island and which he could launch from different sites.” Will he go in it? “That’s the acid test isn’t it!” he says laughing. “Umm, I’ll get in it...” ‘I’d get bored lying on the beach’ There will never be another Adrian Newey simply because no one else could ever acquire the breadth of experience he did in his formative years. Within two years of leaving university Newey had been an aerodynamicist at Fittipaldi (a department of one), then a draughtsman for March during the week, and a race engineer on Johnny Cecotto’s F2 car at the weekends. His experience and contacts book is insane. When we talk about the race in Las Vegas later this month, Newey points out that he is one of the few to have already raced there. “It was in IndyCar. 1984 I think. Bobby Rahall was the driver. I was race engineering I think.” Did Rahal win? “Mmm, no I don’t think so.” I check. He was seventh. The likelihood is Verstappen will be chasing a 20th win of the season by the time we hit Vegas. No wonder Horner was desperate to tie him down to a new contract earlier this year. Red Bull’s team principal says he can go on as long as he wants. “Adrian is 65 now,” he says. “He’s fit and healthy and motivated. And I think by relieving him of the pressure and accountability of Formula One, he is really enjoying it. And that machine, with Pierre and the guys, is running well.” And Newey, how long does he see himself continuing? He smiles. “I think when I was in my early 50s, I thought that by 60 I would go lie on a beach... But the reality is I’d get bored. I know I would. I remember Mario Andretti, for whom I race engineered when he was 47 and still so competitive. Later on he started having some accidents and it was clear his competitiveness was decreasing. I bumped into him a few years later and he said ‘Look I know I’m not as sharp as I used to be. But as long as people are silly enough to give me a drive, I’ll keep driving until I stop enjoying it.’ I think that’s a good way of looking at things. “If I feel in myself and or if other people say to me ‘Look, your contribution isn’t useful anymore’ then I’ve got to take that on board because the last thing I want to do is to let the team down. But as long as I feel I’m able to contribute...hopefully I’m still contributing now.”\n",
      "2025-04-15 14:54:49,638 [INFO] Date Published: 2023-11-03T13:14:13+00:00\n",
      "\n",
      "2025-04-15 14:54:49,639 [INFO] Headline: Rio inicia a semana com 5.785 vagas de empregos e estágios\n",
      "2025-04-15 14:54:49,639 [INFO] Article Body: Rio - O mercado de trabalho do Rio de Janeiro fecha o mês de agosto com 5.785 oportunidades de trabalho e estágio para profissionais e estudantes de diferentes áreas e níveis de escolaridade. As oportunidades abrangem pessoas sem experiência comprovada em carteira de trabalho e aquelas com alguma deficiência (PCDs). Há também diversas oportunidades para os setores de serviços administrativos, vendas, comércio, serviços gerais e construção civil. Do total das vagas oferecidas, 1.538 são de estágio e Jovem Aprendiz. Confira: SMTE A Secretaria Municipal de Trabalho e Renda (SMTE), oferece 948 vagas de emprego, com e sem experiência, diversos bairros nas zonas sul, central, norte e oeste, inclusive estágios, dos quais 507 para trabalhadores em geral, e 441 são para pessoas com deficiência (PCD) em diversas áreas como operação de telemarketing, auxiliar de lavanderia, padeiro, costureira, bombeiro hidráulico, motorista de caminhão e outras. \"Continuamos com o mercado de trabalho aquecido, oferecendo quase mil novas oportunidades de emprego essa semana. Entre os principais destaques, 200 vagas para operador de telemarketing receptivo aqui pertinho da Prefeitura, na Cidade Nova\", comenta o secretário municipal de Trabalho e Renda, Everton Gomes. Interessados devem acessar o site As pessoas com deficiência (PCD) podem enviar também o currículo para vagaspcd.smte.com. A Luandre, empresa de soluções de RH, oferece 180 vagas, com salários entre R$ 1 mil a R$ 6.500 para diversos cargos, como: Vendedor Externo, Auxiliar de Suprimentos, Auxiliar de Logística, Promotor, Operador de Empilhadeira, Agente Atendimento II, Faturista, Técnico de Enfermagem - UTI Adulto, Bibliotecário Jr, Técnico de Automação, Técnico de Sistemas, Coordenador de Produção (Vestuário), Enfermeiro, Enfermeiro - Emergência Adulto, Analista Pleno Financeiro e Consultor Relacionamento Prestadores I. Os candidatos interessados devem se cadastrar no site A Fundação Mudes oferece, nesta semana 262 vagas de estágio, nos níveis superior, médio e técnico. O valor da bolsa-auxílio pode chegar a R$ 2 mil. Para se candidatar, basta acessar o site: As carreiras do ensino superior com o maior número de vagas são: Administração (74), Engenharia (45) e Comunicação Social (12). Ainda há vagas para cursos como Arquitetura e Urbanismo, Biomedicina, Ciências Contábeis, Direito, Letras, Gastronomia, Informática, Medicina, Pedagogia, Veterinária, Sistemas de Informação e muito mais. Já as oportunidades destinadas ao programa Jovem Aprendiz somam 41 vagas. Há chances para estágio no Ensino Médio, são 43 no total e também 21 vagas para pessoas com deficiência (PcD). Além delas, há oportunidades para cursos técnicos, que somam 67 vagas. Sendo técnico em Administração (10) e Eletrotécnica (6). Há vagas também para técnico em Turismo, técnico em Segurança do Trabalho, técnico em Higiene Dental entre outras. O Centro de Integração Empresa-Escola (Ciee) oferta 1.153 oportunidades de estágio, sendo que 728 para Ensino Superior. Os interessados devem acessar o site: Em , há cinco vagas para Administração, uma para Jurídico, três para Psicologia, duas para Comunicação e duas para Construção Civil. Já em Campos, há cinco vagas para Administração, uma para Elétrica-Eletrônica e uma para Comunicação. Em Duque de Caxias, há cinco vagas para Jurídico, uma para Ciências Contábeis, uma para Engenharia de Produção, uma para Arquitetura e Urbanismo, três para Marketing, duas para Administração, duas para Construção Civil e uma para Transporte. Já em Macaé, são 25 oportunidades para Administração, uma para Engenharia de Produção, quatro para Arquitetura e Urbanismo, oito para Marketing, quatro para Construção Civil, seis para Contabilidade, cinco para Esportes, 25 para Produção Mecânica, três para Educação, uma para Farmácia e duas para Jurídico. Em Niterói, são 16 vagas para Administração, seis para Contabilidade, três para Marketing, duas para Informática, uma para Comunicação, 14 para Educação, duas para Design, cinco para Engenharia de Produção, uma para Indústria, uma para Biblioteca, duas para Gastronomia, uma para Psicologia, duas para Jurídico, uma para Produção Mecânica, duas para Arquitetura e Urbanismo, uma para Saúde e uma para Construção Civil. Em Nova Friburgo, há duas vagas para Educação, uma para Saúde e uma para Contabilidade. Já em Nova Iguaçu, há uma oportunidade para Administração, uma para Educação, duas para Engenharia de Produção e uma para Meio Ambiente. Em Petrópolis, há 16 vagas para administração, uma para Ciências Contábeis, dez para Educação, uma para Comunicação Social e cinco para Psicologia. Já em Resende, há uma oportunidade para Biologia, uma para Elétrica- Eletrônica, uma para Jurídico e uma para Produção Mecânica. No Rio de Janeiro, há 165 vagas para Administração, 23 para Ciências Econômicas, 17 para Comunicação Social, 22 para Construção Civil, 25 para Ciências Contábeis, quatro para Design, 22 para Educação, 15 para Elétrica-Eletrônica, 13 para Informática, 74 para Jurídico, 34 para Marketing, cinco para Produção Mecânica, duas para Psicologia, duas para Química, cinco para Engenharia de Produção, dez para Arquitetura e Urbanismo, uma para Saúde, seis para Comércio Exterior, cinco para Letras, duas para Licenciatura, dez para Arquivologia, dez para Turismo e Lazer, uma para Nutrição, cinco para Gastronomia, duas para Esportes, duas para Farmácia, uma para Transportes, uma para Biologia, uma para Geomática, uma para Indústria e duas para Meio Ambiente. Já em Teresópolis, há duas oportunidades para Administração, uma para Informática, quatro para Jurídico, uma para Licenciatura, uma para Psicologia, uma para Engenharia de Produção e uma para Educação. Para quem busca oportunidades de Jovem Aprendiz e de estágio de nível técnico, o Ciee concentra 425 vagas. Em Barra Mansa, são 17 oportunidades para Aprendiz, sete para Ensino Médio, uma para Técnico em Meio Ambiente e uma para Mecânica. Em Campos, há uma vaga para Aprendiz, três para Ensino Médio, cinco para Técnico em Administração e uma para Técnico em Saúde. Já em Duque de Caxias, há nove oportunidades para Aprendiz, duas para Técnico em Administração e duas para Técnico em Saúde. Em Macaé, são 21 vagas de Aprendiz, 25 para Ensino Médio, uma para Técnico em Administração e uma para Técnico em Elétrica-Eletrônica. Já em Niterói, há 68 vagas para Aprendiz, 14 para Ensino Médio, duas para Técnico em Elétrica-Eletrônica, uma para Técnico em Administração, uma para Técnico em Saúde e uma para Técnico em Segurança do Trabalho. Em Nova Friburgo, há quatro vagas para Aprendiz. Já em Nova Iguaçu, há quatro ofertas para Aprendiz. Em Petrópolis, há duas vagas para Aprendiz e uma para Ensino Médio. No Rio de Janeiro, há 156 vagas para Aprendiz, 36 para Ensino Médio, uma para Técnico em Administração, 14 para Técnico em Elétrica-Eletrônica, nove para Técnico em Indústria, duas para Técnico em Saúde e nove para Técnico em Construção Civil. Em Teresópolis, há duas oportunidades para Aprendiz e uma para Ensino Médio. O Instituto Brasileiro Pró-educação, Trabalho e Desenvolvimento (ISBET) oferta 123 vagas. São 61 oportunidades para Jovem Aprendiz e 62 para Estágio. Há vagas de Jovem Aprendiz nos ramos: Restaurante, Logística, Varejo e Administração. Para Estágio, há oportunidades em Atendimento ao Público, Alimentício, Administrativo e Lanchonete. Todos os interessados devem realizar o cadastro no site e, posteriormente, agendar uma orientação profissional. A Secretaria de Estado de Trabalho e Renda (Setrab) oferece 2.243 oportunidades de empregos e estágios no Rio de Janeiro. São 828 vagas de emprego formal com salários que podem chegar a R$ 7.920. Para quem procura estágio ou uma chance como jovem aprendiz, há 1.415 oportunidades. A região Metropolitana tem 583 oportunidades, 138 delas direcionadas especialmente a Pessoas com Deficiência (PcD), com destaque para as funções de assistente administrativo e fonoaudiólogo, nos bairros de Copacabana e Glória, respectivamente, com remuneração que pode chegar a seis salários mínimos (R$ 7.920). a mesma região oferece ainda vagas com salários de R$ 5.280, como a de gerente de loja e supermercado, que exige Ensino Médio e experiência. Para quem tem apenas o ensino fundamental, há oportunidades como as de auxiliar de cozinha, auxiliar de encanador e carpinteiro, entre outras. Já na Região Norte, todas as oportunidades estão no centro de Macaé e são direcionadas a PcD: há quatro vagas para agente de portaria, três para auxiliar de limpeza, duas para pedreiro, e uma para pedreiro de acabamento. Na região do Médio Paraíba, foram captadas 37 vagas, cujas maiores remunerações chegam a R$ 3.960 para auxiliar técnico de refrigeração e gerente de farmácia, ambos na cidade de Volta Redonda. Há também vagas para operador de caixa, repositor de supermercado e técnico mecânico, todas sem necessidade de experiência anterior. Na Região Serrana, todas as 198 oportunidades oferecidas são para Teresópolis, com remuneração média de dois salários mínimos. Há ainda 10 oportunidades para motorista de caminhão e 33 para técnico de suporte de TI. Os interessados devem se inscrever através do site, O Instituto Rede Incluir disponibiliza mais de 60 vagas para profissionais com deficiência (PcD) no estado do Rio de Janeiro. As vagas são para o Ensino Médio e Superior e é necessário experiência de pelo menos 6 meses na função. As oportunidades são para a zona oeste, sul, norte e zona central do Rio de Janeiro, além de Piraí e Cordeiro, no interior. Os interessados devem se cadastrar no instituto enviando o currículo para recrutamento.com.br, junto com laudo atestando a deficiência. As vagas exclusivas para Pessoas com Deficiência e Reabilitados do INSS disponíveis são: Ajudante de distribuição, Motorista de distribuição, Auxiliar de movimentação, Manobrista, Auxiliar de Logística, Motorista de bitrem, Motorista de distribuição, Motorista de van, Motorista, Enfermeiro, Técnico em Enfermagem, Fisioterapeuta, Fonoaudiologia, Médico, Psicólogo, Auxiliar de almoxarifado, Auxiliar de escritório, Auxiliar administrativo, Auxiliar de farmácia, Auxiliar de rouparia, Almoxarife, Analista de RH, Fisioterapeuta, Analista administrativo, Assistente administrativo, Assistente social, Técnico em Informática e Nutricionista. A Comunidade Católica Gerando Vidas oferece 366 vagas. As oportunidades em destaque são: Operador de loja, Operador de caixa, Auxiliar de logística e Auxiliar de serviços gerais. As inscrições são feitas através do site, Prefeitura de Japeri A Prefeitura de Japeri, por meio da Secretaria Municipal de Educação, publicou na quarta-feira, 23, o edital do Concurso Público da Educação no Diário Oficial do Município. Serão mais de 400 vagas em 20 áreas diferentes. As inscrições estarão abertas a partir desta segunda, 28, até o dia 26 de setembro, no site. As vagas são para as áreas de assistente de creche, assistente social, cuidador de alunos com necessidades especiais, fonoaudiólogo, nutricionista, orientador educacional e pedagógico, professores de artes, ciências, educação física, geografia, história, inglês, língua portuguesa e matemática, além de professor de educação básica e educação especial, psicólogo, psicopedagogo e supervisor educacional. Os salários variam entre R$ 1.705,55 e R$ 3.362,94. Os valores das inscrições são de R$ 100 para ensino superior e R$ 80 para o ensino médio. A recrutadora de RH Grupo Attua está com 50 vagas para as áreas de Técnico de TI, Engenheiro comercial, Mecânico manutenção industrial, Analista fiscal, Cabelereiro e Vendedor. As inscrições são feitas pelo site, Programa Estágio e Trainee Red Bull 2024 O programa de Estágio e Trainee da Red Bull está com diversas vagas disponíveis. As oportunidades de estágio disponíveis são para desempenhar funções em São Paulo (SP), Rio de Janeiro (RJ) e Recife (PE) nas áreas de Vendas, Marketing, Operações, Finanças e RH. Podem se candidatar os jovens graduandos em cursos de Exatas e Humanas com data de conclusão da graduação após dezembro de 2025. As inscrições podem até o dia 20 de setembro, no site\n",
      "2025-04-15 14:54:49,640 [INFO] Date Published: 2023-08-28T18:20:39+00:00\n",
      "\n"
     ]
    },
    {
     "name": "stdout",
     "output_type": "stream",
     "text": [
      "Processing webarticles_sample/1b48aa76-5de9-462a-993a-e7f85ea3e9ab.json\n",
      "Processing webarticles_sample/0c1eefe7-d4ec-4344-9ded-32088d62f6b7.json\n",
      "Processing webarticles_sample/1abfca25-f7f7-4e6c-9cb0-32fd0768d4c7.json\n",
      "Processing webarticles_sample/0bdb0fa7-7269-47d0-aabc-5e5941cda28c.json\n",
      "Processing webarticles_sample/1b597488-5461-4660-a4cd-6e10c5216bcc.json\n",
      "Successfully processed 5 articles\n"
     ]
    }
   ],
   "source": [
    "# Process articles\n",
    "\n",
    "# Initialize structures to hold processed data\n",
    "processed_articles = []\n",
    "extraction_results = []\n",
    "\n",
    "# Process each file\n",
    "for file_path in json_files:\n",
    "    print(f\"Processing {file_path}\")\n",
    "    \n",
    "    # Load and prepare article\n",
    "    data = ArticleProcessor.load_article(file_path)\n",
    "    if data is None:\n",
    "        print(f\"Skipping {file_path} due to loading error\")\n",
    "        continue\n",
    "        \n",
    "    # Clean and prepare article content\n",
    "    cleaned_article = ArticleProcessor.prepare_article(data, print_result=True)\n",
    "    \n",
    "    # Store article data for processing\n",
    "    processed_articles.append({\n",
    "        \"file_path\": file_path,\n",
    "        \"headline\": cleaned_article[\"headline\"],\n",
    "        \"article_body\": cleaned_article[\"articleBody\"],\n",
    "        \"date_published\": cleaned_article[\"datePublished\"]\n",
    "    })\n",
    "    \n",
    "print(f\"Successfully processed {len(processed_articles)} articles\")"
   ]
  },
  {
   "cell_type": "markdown",
   "id": "82c01989",
   "metadata": {},
   "source": [
    "### Extract entities using GPT"
   ]
  },
  {
   "cell_type": "code",
   "execution_count": 7,
   "id": "0a0b15a0",
   "metadata": {},
   "outputs": [
    {
     "name": "stdout",
     "output_type": "stream",
     "text": [
      "Extracting data from: 1b48aa76-5de9-462a-993a-e7f85ea3e9ab.json\n"
     ]
    },
    {
     "name": "stderr",
     "output_type": "stream",
     "text": [
      "2025-04-15 14:54:50,639 [INFO] HTTP Request: POST https://api.openai.com/v1/responses \"HTTP/1.1 200 OK\"\n"
     ]
    },
    {
     "name": "stdout",
     "output_type": "stream",
     "text": [
      "[] [] []\n",
      "Extracting data from: 0c1eefe7-d4ec-4344-9ded-32088d62f6b7.json\n"
     ]
    },
    {
     "name": "stderr",
     "output_type": "stream",
     "text": [
      "2025-04-15 14:54:53,230 [INFO] HTTP Request: POST https://api.openai.com/v1/responses \"HTTP/1.1 200 OK\"\n"
     ]
    },
    {
     "name": "stdout",
     "output_type": "stream",
     "text": [
      "['Red Bull Racing', 'Red Bull', 'Sebastian Vettel', 'Max Verstappen', 'Williams', 'Alpine', 'Alpine F1 Team', 'Renault', 'Aston Martin', 'McLaren', 'Jaguar'] ['Formula 1', 'F1'] ['Formula 1 Dutch Grand Prix 2023']\n",
      "Extracting data from: 1abfca25-f7f7-4e6c-9cb0-32fd0768d4c7.json\n"
     ]
    },
    {
     "name": "stderr",
     "output_type": "stream",
     "text": [
      "2025-04-15 14:54:54,705 [INFO] HTTP Request: POST https://api.openai.com/v1/responses \"HTTP/1.1 200 OK\"\n"
     ]
    },
    {
     "name": "stdout",
     "output_type": "stream",
     "text": [
      "['Wings Team (Red Bull)'] [] []\n",
      "Extracting data from: 0bdb0fa7-7269-47d0-aabc-5e5941cda28c.json\n"
     ]
    },
    {
     "name": "stderr",
     "output_type": "stream",
     "text": [
      "2025-04-15 14:54:57,713 [INFO] HTTP Request: POST https://api.openai.com/v1/responses \"HTTP/1.1 200 OK\"\n"
     ]
    },
    {
     "name": "stdout",
     "output_type": "stream",
     "text": [
      "['Max Verstappen', 'Red Bull', 'Adrian Newey', 'Pierre Waché', 'Christian Horner', 'Sebastian Vettel', 'Nigel Mansell', 'Williams-Renault', 'BMW-Sauber', 'Ford (Jim Farley)', 'Alinghi', 'Bobby Rahal', 'Mario Andretti'] ['Formula One', 'F1', 'Grand Prix racing', 'Motorsport', 'IndyCar', 'GT racing', 'Cycling', 'Rugby', 'E-sports', 'MotoGP', 'Track car racing', 'Supercar racing', 'Submarine racing'] ['Brazilian Grand Prix', 'Rugby World Cup', 'Las Vegas Grand Prix', 'League of Legends World Championship', 'IndyCar race in Las Vegas 1984']\n",
      "Extracting data from: 1b597488-5461-4660-a4cd-6e10c5216bcc.json\n"
     ]
    },
    {
     "name": "stderr",
     "output_type": "stream",
     "text": [
      "2025-04-15 14:55:00,001 [INFO] HTTP Request: POST https://api.openai.com/v1/responses \"HTTP/1.1 200 OK\"\n"
     ]
    },
    {
     "name": "stdout",
     "output_type": "stream",
     "text": [
      "['Red Bull'] [] []\n",
      "Successfully extracted data from 5 articles\n"
     ]
    }
   ],
   "source": [
    "# Extract entities using GPT\n",
    "for article in processed_articles:\n",
    "    print(f\"Extracting data from: {os.path.basename(article['file_path'])}\")\n",
    "    \n",
    "    # First extraction run\n",
    "    output_dict = gpt_client.extract_entities(article['article_body'], extractionPrompt)\n",
    "    \n",
    "    # Check if extraction failed\n",
    "    if not output_dict:\n",
    "        print(f\"Failed to extract entities for {os.path.basename(article['file_path'])}\")\n",
    "        continue\n",
    "    \n",
    "    # If rerunCount > 0, do multiple runs and consolidate results\n",
    "    if rerunCount > 0:\n",
    "        print(f\"Performing {rerunCount} additional runs for validation...\")\n",
    "        all_extraction_results = [output_dict]  # Store first run\n",
    "        \n",
    "        # Perform additional runs\n",
    "        for run in range(rerunCount):\n",
    "            print(f\"Run {run+1}/{rerunCount}...\")\n",
    "            rerun_dict = gpt_client.extract_entities(article['article_body'], extractionPrompt)\n",
    "            if rerun_dict:\n",
    "                all_extraction_results.append(rerun_dict)\n",
    "            else:\n",
    "                print(f\"Failed to get GPT response for run {run+1}\")\n",
    "            \n",
    "            # Add a small delay to prevent API rate limiting\n",
    "            time.sleep(0.5)\n",
    "        \n",
    "        # Consolidate results using rerunAnalysisPrompt if we have multiple results\n",
    "        if len(all_extraction_results) > 1:\n",
    "            print(\"Consolidating results from multiple runs...\")\n",
    "            \n",
    "            # Call GPT to consolidate results\n",
    "            consolidated_dict = gpt_client.consolidate_results(all_extraction_results, rerunAnalysisPrompt)\n",
    "            if consolidated_dict:\n",
    "                output_dict = consolidated_dict  # Replace with consolidated results\n",
    "                print(\"Successfully consolidated multiple extraction runs\")\n",
    "            else:\n",
    "                print(\"Failed to get consolidated output, using first run results\")\n",
    "    \n",
    "    # Extract entities from the result\n",
    "    athletes_teams = output_dict.get(\"AthletesAndTeams\", output_dict.get(\"RedBullAthletesAndTeams\", []))\n",
    "    disciplines = output_dict.get(\"Disciplines\", [])\n",
    "    events = output_dict.get(\"Events\", [])\n",
    "    \n",
    "    print(athletes_teams, disciplines, events)\n",
    "\n",
    "    # Convert to arrays if they're not already\n",
    "    if isinstance(athletes_teams, str) and athletes_teams:\n",
    "        athletes_teams = [athletes_teams]\n",
    "    elif not isinstance(athletes_teams, list):\n",
    "        athletes_teams = []\n",
    "        \n",
    "    if isinstance(disciplines, str) and disciplines:\n",
    "        disciplines = [disciplines]\n",
    "    elif not isinstance(disciplines, list):\n",
    "        disciplines = []\n",
    "        \n",
    "    if isinstance(events, str) and events:\n",
    "        events = [events]\n",
    "    elif not isinstance(events, list):\n",
    "        events = []\n",
    "    \n",
    "    # Store results\n",
    "    extraction_results.append({\n",
    "        \"file_path\": article['file_path'],\n",
    "        \"headline\": article['headline'],\n",
    "        \"date_published\": article['date_published'],\n",
    "        \"athletes_teams\": athletes_teams,\n",
    "        \"disciplines\": disciplines,\n",
    "        \"events\": events\n",
    "    })\n",
    "    \n",
    "    # Add a small delay to prevent API rate limiting\n",
    "    time.sleep(0.5)\n",
    "\n",
    "print(f\"Successfully extracted data from {len(extraction_results)} articles\")"
   ]
  },
  {
   "cell_type": "markdown",
   "id": "6fa03187",
   "metadata": {},
   "source": [
    "### Write the data to the output file"
   ]
  },
  {
   "cell_type": "code",
   "execution_count": 8,
   "id": "648ef08c",
   "metadata": {},
   "outputs": [
    {
     "name": "stdout",
     "output_type": "stream",
     "text": [
      "Skipping 1b48aa76-5de9-462a-993a-e7f85ea3e9ab.json - no entities extracted\n",
      "Wrote 4 new entries\n",
      "Data written to extractions.csv\n"
     ]
    }
   ],
   "source": [
    "# Initialize CSV handler\n",
    "csv_handler = CsvHandler(\n",
    "    outputFilePath,\n",
    "    [\"FileName\", \"Headline\", \"DatePublished\", \"AthletesAndTeams\", \"Disciplines\", \"Events\"]\n",
    ")\n",
    "\n",
    "# Prepare final data for CSV\n",
    "csv_extractions = []\n",
    "for result in extraction_results:\n",
    "    # Skip entries where all extraction fields are empty\n",
    "    if not result['athletes_teams'] and not result['disciplines'] and not result['events']:\n",
    "        print(f\"Skipping {os.path.basename(result['file_path'])} - no entities extracted\")\n",
    "        continue\n",
    "        \n",
    "    # Ensure lists contain only strings before joining\n",
    "    athletes_teams_str = \", \".join([str(item) for item in result['athletes_teams']]) if result['athletes_teams'] else \"\"\n",
    "    disciplines_str = \", \".join([str(item) for item in result['disciplines']]) if result['disciplines'] else \"\"\n",
    "    events_str = \", \".join([str(item) for item in result['events']]) if result['events'] else \"\"\n",
    "    \n",
    "    extraction = {\n",
    "        \"FileName\": os.path.basename(result['file_path']),\n",
    "        \"Headline\": result['headline'],\n",
    "        \"DatePublished\": result['date_published'],\n",
    "        \"AthletesAndTeams\": athletes_teams_str,\n",
    "        \"Disciplines\": disciplines_str,\n",
    "        \"Events\": events_str\n",
    "    }\n",
    "    \n",
    "    csv_extractions.append(extraction)\n",
    "\n",
    "# Write to CSV\n",
    "if csv_extractions:\n",
    "    csv_handler.write_extractions(csv_extractions)\n",
    "    print(f\"Data written to {outputFilePath}\")\n",
    "else:\n",
    "    print(\"No data to write to CSV\")"
   ]
  }
 ],
 "metadata": {
  "kernelspec": {
   "display_name": "Python 3",
   "language": "python",
   "name": "python3"
  },
  "language_info": {
   "codemirror_mode": {
    "name": "ipython",
    "version": 3
   },
   "file_extension": ".py",
   "mimetype": "text/x-python",
   "name": "python",
   "nbconvert_exporter": "python",
   "pygments_lexer": "ipython3",
   "version": "3.13.2"
  }
 },
 "nbformat": 4,
 "nbformat_minor": 5
}
